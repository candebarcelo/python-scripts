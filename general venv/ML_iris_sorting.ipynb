{
 "cells": [
  {
   "cell_type": "code",
   "execution_count": 2,
   "id": "4e47689e",
   "metadata": {},
   "outputs": [],
   "source": [
    "#1: Import the data. \n",
    "\n",
    "from sklearn.datasets import load_iris # scikit-learn library has several datasets included for testing.\n",
    "iris = load_iris()"
   ]
  },
  {
   "cell_type": "code",
   "execution_count": 3,
   "id": "d4d483ae",
   "metadata": {},
   "outputs": [],
   "source": [
    "X = iris.data # uppercase X is the input data (standard).\n",
    "y = iris.target # lowercase y is the target / result you want the robot to determine on its own (standard).\n",
    "\n",
    "feature_names = iris.feature_names # column names/headers.\n",
    "target_names = iris.target_names # result names (instead of simply types 0, 1 or 2)."
   ]
  },
  {
   "cell_type": "code",
   "execution_count": 15,
   "id": "bd51cbb3",
   "metadata": {},
   "outputs": [
    {
     "name": "stdout",
     "output_type": "stream",
     "text": [
      "(120, 4)\n",
      "(30, 4)\n"
     ]
    }
   ],
   "source": [
    "#2: Clean the data (won't be necessary this time, this dataset is already clean)\n",
    "\n",
    "#3: Split the data (Training vs. Test sets)\n",
    "\n",
    "from sklearn.model_selection import train_test_split # automatically splits the data randomly into training and testing groups.\n",
    "\n",
    "X_train, X_test, y_train, y_test = train_test_split(X, y, test_size=0.2) # splits the data, in the () are the data and target\n",
    "                                                                         # datasets, and lots of parameters u can change, like \n",
    "                                                                         # test_size, which determines the % of the data that'll \n",
    "                                                                         # be for testing.\n",
    "\n",
    "print(X_train.shape) # .shape shows u the number of rows and columns it has.\n",
    "print(X_test.shape)"
   ]
  },
  {
   "cell_type": "code",
   "execution_count": 20,
   "id": "ce2b123f",
   "metadata": {},
   "outputs": [],
   "source": [
    "#4: Create a model.\n",
    "\n",
    "from sklearn.neighbors import KNeighborsClassifier # there's tons of diff. algorithms u can import and use. that's the job of a \n",
    "                                                   # dev in ML, to determine what algorithm is the best. we chose the nearest\n",
    "                                                   # neighbor classifier, which picks the result that's nearest to each data.\n",
    "        \n",
    "knn = KNeighborsClassifier(n_neighbors=4) # parameter n_neighbors is the k. the number of neighbors it'll compare each point to,\n",
    "                                # when determining its result. it does this by calculating the distance between each point (in \n",
    "                                # a graph with all the variables) and calculating the average between them, taking that into acc.\n",
    "                                # u should try with several k values bc too little or too much can make the model worse.\n",
    "        \n",
    "knn.fit(X_train, y_train) # .fit trains the machine with the input datasets.\n",
    "y_pred = knn.predict(X_test) # .predict + the test input data makes the machine predict the results. "
   ]
  },
  {
   "cell_type": "code",
   "execution_count": 21,
   "id": "ebcbbfc1",
   "metadata": {},
   "outputs": [
    {
     "name": "stdout",
     "output_type": "stream",
     "text": [
      "0.9666666666666667\n"
     ]
    }
   ],
   "source": [
    "#5: Check the output.\n",
    "\n",
    "from sklearn import metrics # metrics to see how well ur machine did.\n",
    "print(metrics.accuracy_score(y_test, y_pred)) # .accuracy_score + the test data + the predictions gives u a % score to see how \n",
    "                                              # many answers the machine got right."
   ]
  },
  {
   "cell_type": "code",
   "execution_count": 22,
   "id": "64446d6d",
   "metadata": {},
   "outputs": [],
   "source": [
    "#6: Improve."
   ]
  },
  {
   "cell_type": "code",
   "execution_count": 23,
   "id": "3a5674e9",
   "metadata": {},
   "outputs": [
    {
     "name": "stdout",
     "output_type": "stream",
     "text": [
      "predictions:  ['setosa', 'versicolor']\n"
     ]
    }
   ],
   "source": [
    "#7: Actually using the model.\n",
    "sample = [[3,5,2,4], [1,4,5,2]] # a new sample that we input, to see what it will predict.\n",
    "predictions = knn.predict(sample) # telling the model to make its predictions for the sample\n",
    "pred_species = [iris.target_names[p] for p in predictions] # but the predictions are 0 1 or 2 only, so tell it to use the \n",
    "                                                           # target names instead of numbers.\n",
    "print(\"predictions: \", pred_species)"
   ]
  },
  {
   "cell_type": "code",
   "execution_count": 24,
   "id": "de0ccce7",
   "metadata": {},
   "outputs": [
    {
     "data": {
      "text/plain": [
       "['mlbrain.joblib']"
      ]
     },
     "execution_count": 24,
     "metadata": {},
     "output_type": "execute_result"
    }
   ],
   "source": [
    "from joblib import dump, load # joblib is part of the sklearn library\n",
    "dump(knn, 'mlbrain.joblib') # dump our model = save our trained model as a .joblib file"
   ]
  },
  {
   "cell_type": "code",
   "execution_count": 25,
   "id": "87f5bb51",
   "metadata": {},
   "outputs": [
    {
     "data": {
      "text/plain": [
       "array([1, 2, 1, 0, 0, 0, 2, 0, 1, 0, 0, 2, 2, 2, 0, 1, 0, 1, 2, 2, 2, 1,\n",
       "       0, 0, 1, 1, 1, 2, 0, 0])"
      ]
     },
     "execution_count": 25,
     "metadata": {},
     "output_type": "execute_result"
    }
   ],
   "source": [
    "model = load('mlbrain.joblib') # load means use this saved model\n",
    "model.predict(X_test)"
   ]
  }
 ],
 "metadata": {
  "kernelspec": {
   "display_name": "Python 3 (ipykernel)",
   "language": "python",
   "name": "python3"
  },
  "language_info": {
   "codemirror_mode": {
    "name": "ipython",
    "version": 3
   },
   "file_extension": ".py",
   "mimetype": "text/x-python",
   "name": "python",
   "nbconvert_exporter": "python",
   "pygments_lexer": "ipython3",
   "version": "3.9.5"
  }
 },
 "nbformat": 4,
 "nbformat_minor": 5
}
